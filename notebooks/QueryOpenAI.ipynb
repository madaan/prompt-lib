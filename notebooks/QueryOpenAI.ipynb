{
  "cells": [
    {
      "cell_type": "markdown",
      "metadata": {
        "colab_type": "text",
        "id": "view-in-github"
      },
      "source": [
        "<a href=\"https://colab.research.google.com/github/madaan/memprompt/blob/main/QueryOpenAI.ipynb\" target=\"_parent\"><img src=\"https://colab.research.google.com/assets/colab-badge.svg\" alt=\"Open In Colab\"/></a>"
      ]
    },
    {
      "cell_type": "code",
      "execution_count": 1,
      "metadata": {
        "colab": {
          "base_uri": "https://localhost:8080/"
        },
        "id": "HQvxP7ZbhTTK",
        "outputId": "c6584ea6-cb8b-4018-ce61-006f8eeff674"
      },
      "outputs": [
        {
          "name": "stdout",
          "output_type": "stream",
          "text": [
            "Cloning into 'prompt-lib'...\n",
            "remote: Enumerating objects: 401, done.\u001b[K\n",
            "remote: Counting objects: 100% (401/401), done.\u001b[K\n",
            "remote: Compressing objects: 100% (225/225), done.\u001b[K\n",
            "remote: Total 401 (delta 232), reused 335 (delta 170), pack-reused 0\u001b[K\n",
            "Receiving objects: 100% (401/401), 2.01 MiB | 18.84 MiB/s, done.\n",
            "Resolving deltas: 100% (232/232), done.\n",
            "Looking in indexes: https://pypi.org/simple, https://us-python.pkg.dev/colab-wheels/public/simple/\n",
            "Processing ./prompt-lib\n",
            "\u001b[33m  DEPRECATION: A future pip version will change local packages to be built in-place without first copying to a temporary directory. We recommend you use --use-feature=in-tree-build to test your packages with this new behavior before it becomes the default.\n",
            "   pip 21.3 will remove support for this functionality. You can find discussion regarding this at https://github.com/pypa/pip/issues/7555.\u001b[0m\n",
            "Requirement already satisfied: openai==0.23.0 in /usr/local/lib/python3.7/dist-packages (from prompt-lib==0.1) (0.23.0)\n",
            "Requirement already satisfied: pandas in /usr/local/lib/python3.7/dist-packages (from prompt-lib==0.1) (1.3.5)\n",
            "Requirement already satisfied: tqdm==4.49.0 in /usr/local/lib/python3.7/dist-packages (from prompt-lib==0.1) (4.49.0)\n",
            "Requirement already satisfied: wandb==0.13.2 in /usr/local/lib/python3.7/dist-packages (from prompt-lib==0.1) (0.13.2)\n",
            "Requirement already satisfied: typing-extensions in /usr/local/lib/python3.7/dist-packages (from openai==0.23.0->prompt-lib==0.1) (4.1.1)\n",
            "Requirement already satisfied: pandas-stubs>=1.1.0.11 in /usr/local/lib/python3.7/dist-packages (from openai==0.23.0->prompt-lib==0.1) (1.2.0.62)\n",
            "Requirement already satisfied: numpy in /usr/local/lib/python3.7/dist-packages (from openai==0.23.0->prompt-lib==0.1) (1.21.6)\n",
            "Requirement already satisfied: requests>=2.20 in /usr/local/lib/python3.7/dist-packages (from openai==0.23.0->prompt-lib==0.1) (2.23.0)\n",
            "Requirement already satisfied: openpyxl>=3.0.7 in /usr/local/lib/python3.7/dist-packages (from openai==0.23.0->prompt-lib==0.1) (3.0.10)\n",
            "Requirement already satisfied: sentry-sdk>=1.0.0 in /usr/local/lib/python3.7/dist-packages (from wandb==0.13.2->prompt-lib==0.1) (1.9.0)\n",
            "Requirement already satisfied: protobuf<4.0dev,>=3.12.0 in /usr/local/lib/python3.7/dist-packages (from wandb==0.13.2->prompt-lib==0.1) (3.19.6)\n",
            "Requirement already satisfied: Click!=8.0.0,>=7.0 in /usr/local/lib/python3.7/dist-packages (from wandb==0.13.2->prompt-lib==0.1) (7.1.2)\n",
            "Requirement already satisfied: psutil>=5.0.0 in /usr/local/lib/python3.7/dist-packages (from wandb==0.13.2->prompt-lib==0.1) (5.4.8)\n",
            "Requirement already satisfied: shortuuid>=0.5.0 in /usr/local/lib/python3.7/dist-packages (from wandb==0.13.2->prompt-lib==0.1) (1.0.11)\n",
            "Requirement already satisfied: promise<3,>=2.0 in /usr/local/lib/python3.7/dist-packages (from wandb==0.13.2->prompt-lib==0.1) (2.3)\n",
            "Requirement already satisfied: setproctitle in /usr/local/lib/python3.7/dist-packages (from wandb==0.13.2->prompt-lib==0.1) (1.3.2)\n",
            "Requirement already satisfied: six>=1.13.0 in /usr/local/lib/python3.7/dist-packages (from wandb==0.13.2->prompt-lib==0.1) (1.15.0)\n",
            "Requirement already satisfied: pathtools in /usr/local/lib/python3.7/dist-packages (from wandb==0.13.2->prompt-lib==0.1) (0.1.2)\n",
            "Requirement already satisfied: docker-pycreds>=0.4.0 in /usr/local/lib/python3.7/dist-packages (from wandb==0.13.2->prompt-lib==0.1) (0.4.0)\n",
            "Requirement already satisfied: PyYAML in /usr/local/lib/python3.7/dist-packages (from wandb==0.13.2->prompt-lib==0.1) (6.0)\n",
            "Requirement already satisfied: setuptools in /usr/local/lib/python3.7/dist-packages (from wandb==0.13.2->prompt-lib==0.1) (57.4.0)\n",
            "Requirement already satisfied: GitPython>=1.0.0 in /usr/local/lib/python3.7/dist-packages (from wandb==0.13.2->prompt-lib==0.1) (3.1.29)\n",
            "Requirement already satisfied: gitdb<5,>=4.0.1 in /usr/local/lib/python3.7/dist-packages (from GitPython>=1.0.0->wandb==0.13.2->prompt-lib==0.1) (4.0.10)\n",
            "Requirement already satisfied: smmap<6,>=3.0.1 in /usr/local/lib/python3.7/dist-packages (from gitdb<5,>=4.0.1->GitPython>=1.0.0->wandb==0.13.2->prompt-lib==0.1) (5.0.0)\n",
            "Requirement already satisfied: et-xmlfile in /usr/local/lib/python3.7/dist-packages (from openpyxl>=3.0.7->openai==0.23.0->prompt-lib==0.1) (1.1.0)\n",
            "Requirement already satisfied: python-dateutil>=2.7.3 in /usr/local/lib/python3.7/dist-packages (from pandas->prompt-lib==0.1) (2.8.2)\n",
            "Requirement already satisfied: pytz>=2017.3 in /usr/local/lib/python3.7/dist-packages (from pandas->prompt-lib==0.1) (2022.6)\n",
            "Requirement already satisfied: urllib3!=1.25.0,!=1.25.1,<1.26,>=1.21.1 in /usr/local/lib/python3.7/dist-packages (from requests>=2.20->openai==0.23.0->prompt-lib==0.1) (1.24.3)\n",
            "Requirement already satisfied: idna<3,>=2.5 in /usr/local/lib/python3.7/dist-packages (from requests>=2.20->openai==0.23.0->prompt-lib==0.1) (2.10)\n",
            "Requirement already satisfied: certifi>=2017.4.17 in /usr/local/lib/python3.7/dist-packages (from requests>=2.20->openai==0.23.0->prompt-lib==0.1) (2022.9.24)\n",
            "Requirement already satisfied: chardet<4,>=3.0.2 in /usr/local/lib/python3.7/dist-packages (from requests>=2.20->openai==0.23.0->prompt-lib==0.1) (3.0.4)\n",
            "Building wheels for collected packages: prompt-lib\n",
            "  Building wheel for prompt-lib (setup.py) ... \u001b[?25l\u001b[?25hdone\n",
            "  Created wheel for prompt-lib: filename=prompt_lib-0.1-py3-none-any.whl size=40092 sha256=d3726083af2d70d77b9a06f8ef1f2b4ff8a496b6f9e120de9fa6f644d897930d\n",
            "  Stored in directory: /root/.cache/pip/wheels/24/68/12/bf7363e3bd22b539664450d1cffb4fd7d6ad2ac95c3166118e\n",
            "Successfully built prompt-lib\n",
            "Installing collected packages: prompt-lib\n",
            "  Attempting uninstall: prompt-lib\n",
            "    Found existing installation: prompt-lib 0.1\n",
            "    Uninstalling prompt-lib-0.1:\n",
            "      Successfully uninstalled prompt-lib-0.1\n",
            "Successfully installed prompt-lib-0.1\n"
          ]
        }
      ],
      "source": [
        "!rm -rf prompt-lib\n",
        "!git clone https://github.com/reasoning-machines/prompt-lib\n",
        "!pip install prompt-lib/\n"
      ]
    },
    {
      "cell_type": "code",
      "execution_count": 1,
      "metadata": {
        "id": "BQdqJ5ZmNuLw"
      },
      "outputs": [],
      "source": [
        "import os\n"
      ]
    },
    {
      "cell_type": "code",
      "execution_count": 6,
      "metadata": {
        "id": "a39F_ly9hKzy"
      },
      "outputs": [],
      "source": [
        "os.environ[\"OPENAI_API_KEY\"] #= 'sk-' #@param {type:\"string\"}\n",
        "!export OPENAI_API_KEY\n"
      ]
    },
    {
      "cell_type": "code",
      "execution_count": 9,
      "metadata": {
        "id": "0G8Z3P7rNwuU"
      },
      "outputs": [
        {
          "ename": "TypeError",
          "evalue": "Anthropic.__init__() takes 1 positional argument but 2 were given",
          "output_type": "error",
          "traceback": [
            "\u001b[0;31m---------------------------------------------------------------------------\u001b[0m",
            "\u001b[0;31mTypeError\u001b[0m                                 Traceback (most recent call last)",
            "\u001b[1;32m/Users/drnic/workspace/aiagents/self-refine/prompt-lib/notebooks/QueryOpenAI.ipynb Cell 5\u001b[0m line \u001b[0;36m1\n\u001b[0;32m----> <a href='vscode-notebook-cell:/Users/drnic/workspace/aiagents/self-refine/prompt-lib/notebooks/QueryOpenAI.ipynb#W4sZmlsZQ%3D%3D?line=0'>1</a>\u001b[0m \u001b[39mfrom\u001b[39;00m \u001b[39mprompt_lib\u001b[39;00m\u001b[39m.\u001b[39;00m\u001b[39mbackends\u001b[39;00m \u001b[39mimport\u001b[39;00m openai_api\n",
            "File \u001b[0;32m~/workspace/aiagents/self-refine/prompt-lib/prompt_lib/backends/openai_api.py:11\u001b[0m\n\u001b[1;32m      9\u001b[0m \u001b[39mfrom\u001b[39;00m \u001b[39mprompt_lib\u001b[39;00m\u001b[39m.\u001b[39;00m\u001b[39mbackends\u001b[39;00m\u001b[39m.\u001b[39;00m\u001b[39mwrapper\u001b[39;00m \u001b[39mimport\u001b[39;00m BaseAPIWrapper\n\u001b[1;32m     10\u001b[0m \u001b[39mfrom\u001b[39;00m \u001b[39mprompt_lib\u001b[39;00m\u001b[39m.\u001b[39;00m\u001b[39mbackends\u001b[39;00m\u001b[39m.\u001b[39;00m\u001b[39mself_hosted\u001b[39;00m \u001b[39mimport\u001b[39;00m OpenSourceAPIWrapper\n\u001b[0;32m---> 11\u001b[0m \u001b[39mfrom\u001b[39;00m \u001b[39mprompt_lib\u001b[39;00m\u001b[39m.\u001b[39;00m\u001b[39mbackends\u001b[39;00m\u001b[39m.\u001b[39;00m\u001b[39manthropic_api\u001b[39;00m \u001b[39mimport\u001b[39;00m AnthropicAPIWrapper\n\u001b[1;32m     13\u001b[0m openai\u001b[39m.\u001b[39mapi_key \u001b[39m=\u001b[39m os\u001b[39m.\u001b[39mgetenv(\u001b[39m\"\u001b[39m\u001b[39mOPENAI_API_KEY\u001b[39m\u001b[39m\"\u001b[39m)\n\u001b[1;32m     15\u001b[0m \u001b[39m# check if orgainization is set\u001b[39;00m\n",
            "File \u001b[0;32m~/workspace/aiagents/self-refine/prompt-lib/prompt_lib/backends/anthropic_api.py:11\u001b[0m\n\u001b[1;32m      8\u001b[0m \u001b[39mfrom\u001b[39;00m \u001b[39mprompt_lib\u001b[39;00m\u001b[39m.\u001b[39;00m\u001b[39mbackends\u001b[39;00m\u001b[39m.\u001b[39;00m\u001b[39mwrapper\u001b[39;00m \u001b[39mimport\u001b[39;00m BaseAPIWrapper\n\u001b[1;32m     10\u001b[0m ANTHROPIC_API_KEY \u001b[39m=\u001b[39m os\u001b[39m.\u001b[39menviron\u001b[39m.\u001b[39mget(\u001b[39m\"\u001b[39m\u001b[39mANTHROPIC_API_KEY\u001b[39m\u001b[39m\"\u001b[39m, \u001b[39m\"\u001b[39m\u001b[39mYour_Default_Value\u001b[39m\u001b[39m\"\u001b[39m)\n\u001b[0;32m---> 11\u001b[0m client \u001b[39m=\u001b[39m anthropic\u001b[39m.\u001b[39;49mClient(ANTHROPIC_API_KEY)\n\u001b[1;32m     14\u001b[0m \u001b[39mclass\u001b[39;00m \u001b[39mAnthropicAPIWrapper\u001b[39;00m(BaseAPIWrapper):\n\u001b[1;32m     15\u001b[0m     \u001b[39m@staticmethod\u001b[39m\n\u001b[1;32m     16\u001b[0m     \u001b[39mdef\u001b[39;00m \u001b[39m_call_api\u001b[39m(\n\u001b[1;32m     17\u001b[0m         prompt: \u001b[39mstr\u001b[39m,\n\u001b[0;32m   (...)\u001b[0m\n\u001b[1;32m     22\u001b[0m         num_completions: \u001b[39mint\u001b[39m \u001b[39m=\u001b[39m \u001b[39m1\u001b[39m,\n\u001b[1;32m     23\u001b[0m     ) \u001b[39m-\u001b[39m\u001b[39m>\u001b[39m \u001b[39mdict\u001b[39m:\n",
            "\u001b[0;31mTypeError\u001b[0m: Anthropic.__init__() takes 1 positional argument but 2 were given"
          ]
        }
      ],
      "source": [
        "from prompt_lib.backends import openai_api\n"
      ]
    },
    {
      "cell_type": "code",
      "execution_count": 11,
      "metadata": {
        "id": "h3lKQJ6TSvuc"
      },
      "outputs": [],
      "source": [
        "response = openai_api.OpenaiAPIWrapper.call(prompt=\"# function to calculate area of a circle\\n\", engine=\"text-davinci-002\", max_tokens=50, stop_token=\"\\n\\n\", temperature=0.5)\n"
      ]
    },
    {
      "cell_type": "code",
      "execution_count": 13,
      "metadata": {
        "id": "YTindk1cSxTD"
      },
      "outputs": [],
      "source": [
        "generated_text = openai_api.OpenaiAPIWrapper.parse_response(response)\n"
      ]
    },
    {
      "cell_type": "code",
      "execution_count": 15,
      "metadata": {
        "colab": {
          "base_uri": "https://localhost:8080/"
        },
        "id": "jSJ9gcfhsKrV",
        "outputId": "4d11731d-6cb8-4569-fe41-cfeea7e4668c"
      },
      "outputs": [
        {
          "name": "stdout",
          "output_type": "stream",
          "text": [
            "def area(r):\n",
            "    return 3.14*r*r\n"
          ]
        }
      ],
      "source": [
        "print(generated_text)\n"
      ]
    },
    {
      "cell_type": "code",
      "execution_count": null,
      "metadata": {
        "id": "3JXZt0g1sWDO"
      },
      "outputs": [],
      "source": []
    }
  ],
  "metadata": {
    "colab": {
      "authorship_tag": "ABX9TyOAFEMeJibez6awFaTUv5al",
      "include_colab_link": true,
      "provenance": []
    },
    "kernelspec": {
      "display_name": "Python 3",
      "name": "python3"
    },
    "language_info": {
      "codemirror_mode": {
        "name": "ipython",
        "version": 3
      },
      "file_extension": ".py",
      "mimetype": "text/x-python",
      "name": "python",
      "nbconvert_exporter": "python",
      "pygments_lexer": "ipython3",
      "version": "3.10.13"
    }
  },
  "nbformat": 4,
  "nbformat_minor": 0
}
